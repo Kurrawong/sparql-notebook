{
 "cells": [
  {
   "cell_type": "markdown",
   "id": "f21eaafc-a035-4558-81a2-228b156885f2",
   "metadata": {
    "collapsed": true,
    "jupyter": {
     "outputs_hidden": true
    }
   },
   "source": [
    "# 3. All about SPARQL\n",
    "\n",
    "## 3.1. Finding out all about SPARQL\n",
    "\n",
    "We will review the SPARQL documents, in particular the Query Language:\n",
    "\n",
    "* <https://www.w3.org/TR/sparql11-query/>\n",
    "    * also <https://www.w3.org/TR/sparql12-query/>\n",
    " \n",
    "We will cover:\n",
    "\n",
    "1. The multiple SPARQL specifications\n",
    "2. Property Paths\n",
    "3. Assignment\n",
    "4. Aggregation, ORDER BY & LIMIT\n",
    "5. GRAPH\n",
    "6. Functions\n",
    "    1. [SPARQL 1.1 Functions](https://www.w3.org/TR/sparql12-query/#SparqlOps)\n",
    "7. DESCRIBE, CONSTRUCT & INSERT"
   ]
  },
  {
   "cell_type": "markdown",
   "id": "73a0bd6f-bd72-4364-a430-13473620ccc2",
   "metadata": {},
   "source": [
    "## 3.1. The multiple SPARQL specifications\n",
    "\n",
    "1. SPARQL Query Language - 1.1 & 1.2\n",
    "2. SPARQL Update\n",
    "\n",
    "## 3.2. Property Paths\n",
    "\n",
    "```mermaid\n",
    "flowchart LR\n",
    "    d[\"Dataset A\"]\n",
    "    px[\"Person X\"]\n",
    "    d --prov:qualifiedAttribution--> qa1\n",
    "    qa1 --prov:agent--> px    \n",
    "    qa1 --prov:hadRole--> dr:custodian\n",
    "```\n",
    "\n",
    "There are two property paths here:\n",
    "\n",
    "```mermaid\n",
    "flowchart LR\n",
    "    d --prov:qualifiedAttribution / prov:agent--> px\n",
    "```\n",
    "\n",
    "and\n",
    "\n",
    "```mermaid\n",
    "flowchart LR\n",
    "    d --prov:qualifiedAttribution / prov:hadRole--> dr:custodian\n",
    "```\n",
    "\n",
    "and remember the person's name is a further step:\n",
    "\n",
    "```mermaid\n",
    "flowchart LR\n",
    "    d[\"Dataset A\"]\n",
    "    px[\"Person X\"]\n",
    "    d --prov:qualifiedAttribution / prov:agent / schema:name--> px\n",
    "```\n"
   ]
  },
  {
   "cell_type": "code",
   "execution_count": 29,
   "id": "13b258ae-1932-48c3-822b-ac3992cb4509",
   "metadata": {},
   "outputs": [],
   "source": [
    "from IPython.display import display, Markdown\n",
    "from kurra.sparql import query\n",
    "from kurra.utils import render_sparql_result\n",
    "\n",
    "\n",
    "def table_print(r):\n",
    "    display(Markdown(render_sparql_result(r)))\n",
    "    \n",
    "\n",
    "rdf_bn = \"\"\"\n",
    "PREFIX dr: <https://linked.data.gov.au/def/data-roles/>\n",
    "PREFIX ex: <http://example.com/>\n",
    "PREFIX people: <https://linked.data.gov.au/dataset/people/>\n",
    "PREFIX prov: <http://www.w3.org/ns/prov#>\n",
    "PREFIX schema: <https://schema.org/>\n",
    "\n",
    "ex:a\n",
    "    a schema:Dataset ;\n",
    "    schema:name \"Dataset A\" ;\n",
    "    prov:qualifiedAttribution [\n",
    "        prov:agent people:px ;\n",
    "        prov:hadRole dr:custodian ;\n",
    "    ] ,\n",
    "    [\n",
    "        prov:agent people:py ;\n",
    "        prov:hadRole dr:rightsHolder\n",
    "    ] ;\n",
    ".\n",
    "\n",
    "people:px\n",
    "    a schema:Person ;\n",
    "    schema:name \"Person X\" ;\n",
    ".\n",
    "\n",
    "people:py\n",
    "    a schema:Person ;\n",
    "    schema:name \"Person Y\" ;\n",
    ".\n",
    "\"\"\"\n",
    "\n",
    "q = \"\"\"\n",
    "PREFIX dr: <https://linked.data.gov.au/def/data-roles/>\n",
    "PREFIX prov: <http://www.w3.org/ns/prov#>\n",
    "PREFIX schema: <https://schema.org/>\n",
    "\n",
    "SELECT ?name\n",
    "WHERE {       \n",
    "    ex:a prov:qualifiedAttribution/prov:agent/schema:name ?name .\n",
    "}\n",
    "\"\"\""
   ]
  },
  {
   "cell_type": "code",
   "execution_count": 28,
   "id": "25a3443b-6b33-4c55-ad9f-03cf39e746f7",
   "metadata": {},
   "outputs": [
    {
     "data": {
      "text/markdown": [
       "| name |\n",
       "| --- |\n",
       "Person X\n",
       "| Person Y |\n"
      ],
      "text/plain": [
       "<IPython.core.display.Markdown object>"
      ]
     },
     "metadata": {},
     "output_type": "display_data"
    }
   ],
   "source": [
    "r = query(rdf_bn, q)\n",
    "table_print(r)"
   ]
  },
  {
   "cell_type": "markdown",
   "id": "20f071ce-3584-4c11-ba51-1e032a38ff11",
   "metadata": {},
   "source": [
    "## 3.2. Try it out\n",
    "\n",
    "DESCRIBE:\n",
    "\n",
    "```sparql\n",
    "DESCRIBE <https://linked.data.gov.au/dataset/qld-addr/address/65cb1e52-fc1d-5dee-a2d2-ea7882d12c7e>\n",
    "\n",
    "DESCRIBE <https://linked.data.gov.au/def/addr-part-types/countryName>\n",
    "\n",
    "DESCRIBE <https://linked.data.gov.au/def/addr-part-types>\n",
    "```\n",
    "\n",
    "CONSTRUCT:\n",
    "```sparql\n",
    "PREFIX address: <https://linked.data.gov.au/dataset/qld-addr/address/>\n",
    "PREFIX schema: <https://schema.org/>\n",
    "\n",
    "CONSTRUCT {\n",
    "  address:65cb1e52-fc1d-5dee-a2d2-ea7882d12c7e schema:comment \"A nice place\"\n",
    "}\n",
    "WHERE { GRAPH ?g {\n",
    "  address:65cb1e52-fc1d-5dee-a2d2-ea7882d12c7e ?p ?o\n",
    "} }\n",
    "LIMIT 1\n",
    "```"
   ]
  }
 ],
 "metadata": {
  "kernelspec": {
   "display_name": "Python 3 (ipykernel)",
   "language": "python",
   "name": "python3"
  },
  "language_info": {
   "codemirror_mode": {
    "name": "ipython",
    "version": 3
   },
   "file_extension": ".py",
   "mimetype": "text/x-python",
   "name": "python",
   "nbconvert_exporter": "python",
   "pygments_lexer": "ipython3",
   "version": "3.12.8"
  }
 },
 "nbformat": 4,
 "nbformat_minor": 5
}
