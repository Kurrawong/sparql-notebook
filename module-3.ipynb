{
 "cells": [
  {
   "cell_type": "markdown",
   "id": "f21eaafc-a035-4558-81a2-228b156885f2",
   "metadata": {
    "collapsed": true,
    "jupyter": {
     "outputs_hidden": true
    }
   },
   "source": [
    "# 3. All about SPARQL\n",
    "\n",
    "## 3.1. Finding out all about SPARQL\n",
    "\n",
    "We will review the SPARQL documents, in particular the Query Language:\n",
    "\n",
    "* <https://www.w3.org/TR/sparql11-query/>\n",
    "    * also <https://www.w3.org/TR/sparql12-query/>\n",
    " \n",
    "We will cover:\n",
    "\n",
    "1. the multiple SPARQL specifications\n",
    "    1. SPARQL Query Language - 1.1 & 1.2\n",
    "    2. SPARQL Update\n",
    "2. Property Paths\n",
    "3. Assignment\n",
    "4. Aggregation, ORDER BY & LIMIT\n",
    "5. GRAPH\n",
    "6. Functions\n",
    "    1. [SPARQL 1.1 Functions](https://www.w3.org/TR/sparql12-query/#SparqlOps)\n",
    "7. CONSTRUCT & INSERT"
   ]
  },
  {
   "cell_type": "markdown",
   "id": "187f6d59-b218-4c4b-b41d-470e49a4fcce",
   "metadata": {},
   "source": [
    "## 3.2. Extending SPARQL\n",
    "\n",
    "### 3.2.1. GeoSPARQL\n",
    "\n",
    "### 3.2.2. QALI function"
   ]
  },
  {
   "cell_type": "code",
   "execution_count": null,
   "id": "12302c1f-0217-422b-8665-f5a09b164915",
   "metadata": {},
   "outputs": [],
   "source": []
  }
 ],
 "metadata": {
  "kernelspec": {
   "display_name": "Python 3 (ipykernel)",
   "language": "python",
   "name": "python3"
  },
  "language_info": {
   "codemirror_mode": {
    "name": "ipython",
    "version": 3
   },
   "file_extension": ".py",
   "mimetype": "text/x-python",
   "name": "python",
   "nbconvert_exporter": "python",
   "pygments_lexer": "ipython3",
   "version": "3.12.8"
  }
 },
 "nbformat": 4,
 "nbformat_minor": 5
}
