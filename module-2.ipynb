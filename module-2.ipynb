{
 "cells": [
  {
   "cell_type": "markdown",
   "id": "52c29bd2328a80c9",
   "metadata": {},
   "source": [
    "# 2. Querying RDF - SPARQL\n",
    "\n",
    "## 2.1. Running a basic query\n",
    "\n",
    "The Turtle data from Notebook 1 was:\n",
    "\n",
    "```turtle\n",
    "PREFIX people: <https://linked.data.gov.au/dataset/people/>\n",
    "PREFIX schema: <https://schema.org/>\n",
    "\n",
    "people:nick\n",
    "    a\n",
    "        schema:Person ,\n",
    "        schema:Patient ;\n",
    "    schema:name \"Nick\" ;\n",
    "    schema:age 42 ;\n",
    "    schemaparent people:george ;\n",
    ".\n",
    "\n",
    "people:george\n",
    "    a schema:Person ;\n",
    "    schema:name \"George\" ;\n",
    "    schema:age 70 ;\n",
    ".\n",
    "```\n",
    "\n",
    "Here there are two people, `people:nick` and `people:george`. To find all the people with age greater than 50 (just George), we can query the data like this:\n",
    "\n",
    "```sparql\n",
    "PREFIX people: <https://linked.data.gov.au/dataset/people/>\n",
    "PREFIX schema: <https://schema.org/>\n",
    "\n",
    "SELECT ?p\n",
    "WHERE {\n",
    "    ?p\n",
    "        a schema:Person ;\n",
    "        schema:age ?age ;\n",
    "    .\n",
    "\n",
    "    FILTER (?age > 50)\n",
    "}\n",
    "```\n",
    "\n",
    "This part matches a \"subgraph\":\n",
    "\n",
    "```\n",
    "    ?p\n",
    "        a schema:Person ;\n",
    "        schema:age ?age ;\n",
    "    .\n",
    "```\n",
    "\n",
    "where `?p` & `?age` are variables and `a`, `schema:Person` & `schema:name` are all fixed values.\n",
    "\n",
    "This part filters all the matched subgraphs:\n",
    "\n",
    "```FILTER (?age > 50)```\n",
    "\n",
    "Let's really run this:\n"
   ]
  },
  {
   "cell_type": "code",
   "execution_count": 1,
   "id": "8dda821e5d7c56d3",
   "metadata": {},
   "outputs": [],
   "source": [
    "# importing some things we need\n",
    "from IPython.display import display, Markdown\n",
    "from kurra.sparql import query\n",
    "from kurra.utils import render_sparql_result\n",
    "\n",
    "# a pretty table printing function\n",
    "def table_print(r):\n",
    "    display(Markdown(render_sparql_result(r)))\n",
    "\n",
    "\n",
    "# our data, in Turtle format\n",
    "rdf_data = \"\"\"\n",
    "PREFIX people: <https://linked.data.gov.au/dataset/people/>\n",
    "PREFIX schema: <https://schema.org/>\n",
    "\n",
    "people:nick\n",
    "    a\n",
    "        schema:Person ,\n",
    "        schema:Patient ;\n",
    "    schema:name \"Nick\" ;\n",
    "    schema:age 42 ;\n",
    "    schema:parent people:george ;\n",
    ".\n",
    "\n",
    "people:george\n",
    "    a schema:Person ;\n",
    "    schema:name \"George\" ;\n",
    "    schema:age 70 ;\n",
    ".\n",
    "\"\"\"\n",
    "\n",
    "# our SPARQL query\n",
    "q = \"\"\"\n",
    "PREFIX people: <https://linked.data.gov.au/dataset/people/>\n",
    "PREFIX schema: <https://schema.org/>\n",
    "\n",
    "SELECT ?p ?name\n",
    "WHERE {\n",
    "    ?p\n",
    "        a schema:Person ;\n",
    "        schema:name ?name ;\n",
    "        schema:age ?age ;\n",
    "    .\n",
    "\n",
    "    FILTER (?age > 50)\n",
    "}\n",
    "\"\"\""
   ]
  },
  {
   "cell_type": "code",
   "execution_count": 2,
   "id": "d33d12f7-70d2-449f-b3ae-48483a58660c",
   "metadata": {},
   "outputs": [
    {
     "data": {
      "text/markdown": [
       "| p | name |\n",
       "| --- | --- |\n",
       "[george](https://linked.data.gov.au/dataset/people/george) | George |\n"
      ],
      "text/plain": [
       "<IPython.core.display.Markdown object>"
      ]
     },
     "metadata": {},
     "output_type": "display_data"
    }
   ],
   "source": [
    "# run the query on the data\n",
    "r = query(rdf_data, q)\n",
    "table_print(r)"
   ]
  },
  {
   "cell_type": "markdown",
   "id": "e2bc09c7-c4c8-4b95-ac83-8a517412f21a",
   "metadata": {},
   "source": [
    "If we have 2 people older than 50 and we wanted their ages:"
   ]
  },
  {
   "cell_type": "code",
   "execution_count": 3,
   "id": "5b74ee5d-adce-4c6f-b559-78bd4909fc46",
   "metadata": {},
   "outputs": [
    {
     "data": {
      "text/markdown": [
       "| name | age |\n",
       "| --- | --- |\n",
       "George | 70\n",
       "| Cathy | 68 |\n"
      ],
      "text/plain": [
       "<IPython.core.display.Markdown object>"
      ]
     },
     "metadata": {},
     "output_type": "display_data"
    }
   ],
   "source": [
    "rdf_data2 = \"\"\"\n",
    "PREFIX people: <https://linked.data.gov.au/dataset/people/>\n",
    "PREFIX schema: <https://schema.org/>\n",
    "\n",
    "people:nick\n",
    "    a\n",
    "        schema:Person ,\n",
    "        schema:Patient ;\n",
    "    schema:name \"Nick\" ;\n",
    "    schema:age 42 ;\n",
    "    schema:parent people:george ;\n",
    ".\n",
    "\n",
    "people:george\n",
    "    a schema:Person ;\n",
    "    schema:name \"George\" ;\n",
    "    schema:age 70 ;\n",
    "    schema:spouse people:cathy ;  # NEW\n",
    ".\n",
    "\n",
    "people:cathy\n",
    "    a schema:Person ;\n",
    "    schema:name \"Cathy\" ;\n",
    "    schema:age 68 ;\n",
    "    schema:spouse people:george ; # symetrical\n",
    ".\n",
    "\"\"\"\n",
    "\n",
    "q2 = \"\"\"\n",
    "PREFIX people: <https://linked.data.gov.au/dataset/people/>\n",
    "PREFIX schema: <https://schema.org/>\n",
    "\n",
    "SELECT ?name ?age\n",
    "WHERE {\n",
    "    ?p\n",
    "        a schema:Person ;\n",
    "        schema:name ?name ;\n",
    "        schema:age ?age ;\n",
    "    .\n",
    "\n",
    "    FILTER (?age > 50)\n",
    "}\n",
    "\"\"\"\n",
    "\n",
    "r = query(rdf_data2, q2)\n",
    "table_print(r)"
   ]
  },
  {
   "cell_type": "markdown",
   "id": "98fefabf-9935-4dc0-b114-617f16d7a13d",
   "metadata": {},
   "source": [
    "## 2.2. Running a query on a DB\n",
    "\n",
    "Run a query for any 3 (randomly-selected) Addresses from the QALI training server:"
   ]
  },
  {
   "cell_type": "code",
   "execution_count": 6,
   "id": "26bbe234-f100-4386-8ba7-8c570982dcae",
   "metadata": {},
   "outputs": [
    {
     "data": {
      "text/markdown": [
       "| a |\n",
       "| --- |\n",
       "[65cb1e52-fc1d-5dee-a2d2-ea7882d12c7e](https://linked.data.gov.au/dataset/qld-addr/address/65cb1e52-fc1d-5dee-a2d2-ea7882d12c7e)\n",
       "| [2fd46078-88c0-5f30-b43e-d2908d9445b6](https://linked.data.gov.au/dataset/qld-addr/address/2fd46078-88c0-5f30-b43e-d2908d9445b6)\n",
       "| [7036d80a-ecb6-5ec9-86f0-5e5135934e04](https://linked.data.gov.au/dataset/qld-addr/address/7036d80a-ecb6-5ec9-86f0-5e5135934e04) |\n"
      ],
      "text/plain": [
       "<IPython.core.display.Markdown object>"
      ]
     },
     "metadata": {},
     "output_type": "display_data"
    }
   ],
   "source": [
    "q = \"\"\"\n",
    "PREFIX addr: <https://linked.data.gov.au/def/addr/>\n",
    "\n",
    "SELECT ?a\n",
    "WHERE {\n",
    "  GRAPH ?g {\n",
    "    ?a a addr:Address ;\n",
    "  }\n",
    "}\n",
    "LIMIT 3\n",
    "\"\"\"\n",
    "\n",
    "r = query(\"https://training.cam.kurrawong.ai/qali/\", q)\n",
    "table_print(r)"
   ]
  },
  {
   "cell_type": "markdown",
   "id": "70e6bee2-33b3-4ce1-aa4f-aeed2dbd509c",
   "metadata": {},
   "source": [
    "## 2.3. A SPARQL Endpoint UI\n",
    "\n",
    "Now we will try this directly on the DB UI and talk through that interface: \n",
    "\n",
    "* <https://training.cam.kurrawong.ai/>"
   ]
  }
 ],
 "metadata": {
  "kernelspec": {
   "display_name": "Python 3 (ipykernel)",
   "language": "python",
   "name": "python3"
  },
  "language_info": {
   "codemirror_mode": {
    "name": "ipython",
    "version": 3
   },
   "file_extension": ".py",
   "mimetype": "text/x-python",
   "name": "python",
   "nbconvert_exporter": "python",
   "pygments_lexer": "ipython3",
   "version": "3.12.8"
  }
 },
 "nbformat": 4,
 "nbformat_minor": 5
}
