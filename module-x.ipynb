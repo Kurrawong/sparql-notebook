{
 "cells": [
  {
   "cell_type": "markdown",
   "id": "2c09f0137414b7a6",
   "metadata": {},
   "source": "# SPARQL Training 1 - Basics"
  },
  {
   "cell_type": "markdown",
   "id": "5cfddc3441f8801b",
   "metadata": {},
   "source": [
    "This is a **Markdown** _test_."
   ]
  },
  {
   "metadata": {
    "ExecuteTime": {
     "end_time": "2025-02-12T13:39:53.857244Z",
     "start_time": "2025-02-12T13:39:53.854846Z"
    }
   },
   "cell_type": "code",
   "source": [
    "from IPython.display import display, Markdown\n",
    "\n",
    "def table_print(r):\n",
    "    display(Markdown(render_sparql_result(r)))"
   ],
   "id": "7f1f59ba99fa48ab",
   "outputs": [],
   "execution_count": 10
  },
  {
   "metadata": {
    "ExecuteTime": {
     "end_time": "2025-02-12T13:39:56.014147Z",
     "start_time": "2025-02-12T13:39:55.394924Z"
    }
   },
   "cell_type": "code",
   "source": [
    "from kurra.sparql import query\n",
    "from kurra.utils import render_sparql_result\n",
    "\n",
    "SPARQL_ENDPOINT = \"https://training.cam.kurrawong.ai/qali\"\n",
    "\n",
    "q = \"\"\"\n",
    "    PREFIX text: <http://jena.apache.org/text#>\n",
    "    PREFIX rdfs: <http://www.w3.org/2000/01/rdf-schema#>\n",
    "    SELECT ?iri ?value\n",
    "    WHERE {\n",
    "      GRAPH <urn:ladb:graph:addresses> {\n",
    "        (?iri ?score ?value ?graph ?pred) text:query (rdfs:label '72 Yundah') .\n",
    "      }\n",
    "    }\n",
    "    ORDER BY DESC(?score)\n",
    "    LIMIT 2\n",
    "    \"\"\"\n",
    "r = query(SPARQL_ENDPOINT, q)\n",
    "table_print(r)"
   ],
   "id": "fd0511fc8055c148",
   "outputs": [
    {
     "data": {
      "text/plain": [
       "<IPython.core.display.Markdown object>"
      ],
      "text/markdown": "iri | value\n--- | ---\n[605bf8e7-315a-562b-af4c-16a870732daf](https://linked.data.gov.au/dataset/qld-addr/address/605bf8e7-315a-562b-af4c-16a870732daf) | 72 Yundah Street, Shorncliffe, Queensland, Australia\n[005fd678-6957-5953-975b-983515d3c145](https://linked.data.gov.au/dataset/qld-addr/address/005fd678-6957-5953-975b-983515d3c145) | 104 Yundah Street, Shorncliffe, Queensland, Australia\n"
     },
     "metadata": {},
     "output_type": "display_data"
    }
   ],
   "execution_count": 11
  },
  {
   "metadata": {
    "ExecuteTime": {
     "end_time": "2025-02-12T13:39:58.891496Z",
     "start_time": "2025-02-12T13:39:58.716102Z"
    }
   },
   "cell_type": "code",
   "source": [
    "q = \"\"\"\n",
    "    PREFIX addr: <https://linked.data.gov.au/def/addr/>\n",
    "    PREFIX schema: <https://schema.org/>\n",
    "\n",
    "    SELECT *\n",
    "    WHERE {\n",
    "      GRAPH <urn:ladb:graph:addresses> {\n",
    "        ?a\n",
    "            a addr:Address ;\n",
    "            schema:hasPart ?part ;\n",
    "        .\n",
    "\n",
    "        ?part schema:value ?value .\n",
    "\n",
    "      }\n",
    "    }\n",
    "    LIMIT 3\n",
    "    \"\"\"\n",
    "r = query(SPARQL_ENDPOINT, q)\n",
    "table_print(r)"
   ],
   "id": "5ff5029648c36b4a",
   "outputs": [
    {
     "data": {
      "text/plain": [
       "<IPython.core.display.Markdown object>"
      ],
      "text/markdown": "a | part | value\n--- | --- | ---\n[65cb1e52-fc1d-5dee-a2d2-ea7882d12c7e](https://linked.data.gov.au/dataset/qld-addr/address/65cb1e52-fc1d-5dee-a2d2-ea7882d12c7e) | BN:     b0 | 32\n[65cb1e52-fc1d-5dee-a2d2-ea7882d12c7e](https://linked.data.gov.au/dataset/qld-addr/address/65cb1e52-fc1d-5dee-a2d2-ea7882d12c7e) | BN:     b1 | [QLDRBAR1531342627625024590](https://linked.data.gov.au/dataset/qld-addr/road-label/QLDRBAR1531342627625024590)\n[65cb1e52-fc1d-5dee-a2d2-ea7882d12c7e](https://linked.data.gov.au/dataset/qld-addr/address/65cb1e52-fc1d-5dee-a2d2-ea7882d12c7e) | BN:     b2 | [45306](https://linked.data.gov.au/dataset/qld-addr/gn/45306)\n"
     },
     "metadata": {},
     "output_type": "display_data"
    }
   ],
   "execution_count": 12
  }
 ],
 "metadata": {
  "kernelspec": {
   "display_name": "Python 3 (ipykernel)",
   "language": "python",
   "name": "python3"
  },
  "language_info": {
   "codemirror_mode": {
    "name": "ipython",
    "version": 3
   },
   "file_extension": ".py",
   "mimetype": "text/x-python",
   "name": "python",
   "nbconvert_exporter": "python",
   "pygments_lexer": "ipython3",
   "version": "3.12.8"
  }
 },
 "nbformat": 4,
 "nbformat_minor": 5
}
