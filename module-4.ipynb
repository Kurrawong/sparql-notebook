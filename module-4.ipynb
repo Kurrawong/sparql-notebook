{
 "cells": [
  {
   "cell_type": "markdown",
   "id": "2cbe8430-f482-4575-8fcf-deaf237e201e",
   "metadata": {},
   "source": [
    "# 4. Extending SPARQL\n",
    "\n",
    "### 4.1. GeoSPARQL\n",
    "\n",
    "<http://www.opengis.net/doc/IS/geosparql/1.1>\n",
    "\n",
    "### 4.2. Lucene Text Index\n",
    "\n",
    "A simple text filter:\n",
    "\n",
    "```sparql\n",
    "PREFIX rdfs: <http://www.w3.org/2000/01/rdf-schema#>\n",
    "\n",
    "SELECT DISTINCT ?a ?lbl\n",
    "WHERE {\n",
    "  GRAPH ?g {\n",
    "  \t?a rdfs:label ?lbl .\n",
    "    \n",
    "    FILTER CONTAINS(?lbl, \"1 william st brisbane\")\n",
    "  }\n",
    "}\n",
    "```\n",
    "\n",
    "_Don't do this!_\n",
    "\n",
    "Use the full text (Lucene) index:\n",
    "\n",
    "<https://jena.apache.org/documentation/query/text-query.html>\n",
    "\n",
    "```sparql\n",
    "PREFIX  text: <http://jena.apache.org/text#>\n",
    "\n",
    "SELECT DISTINCT ?a ?lbl\n",
    "WHERE {\n",
    "  GRAPH ?g {\n",
    "  \t( ?a ?score ?lbl ?graph ) text:query \"1 william st brisbane*\"\n",
    "  }\n",
    "}\n",
    "ORDER BY DESC(?score)\n",
    "```\n",
    "\n",
    "Try it at <https://training.cam.kurrawong.ai>...\n",
    "\n",
    "\n",
    "### 4.3. Custom Functions\n",
    "\n",
    "#### TimeFuncs example"
   ]
  },
  {
   "cell_type": "code",
   "execution_count": null,
   "id": "7f8c9342-58d2-46cc-a399-6eb761506538",
   "metadata": {},
   "outputs": [],
   "source": []
  }
 ],
 "metadata": {
  "kernelspec": {
   "display_name": "Python 3 (ipykernel)",
   "language": "python",
   "name": "python3"
  },
  "language_info": {
   "codemirror_mode": {
    "name": "ipython",
    "version": 3
   },
   "file_extension": ".py",
   "mimetype": "text/x-python",
   "name": "python",
   "nbconvert_exporter": "python",
   "pygments_lexer": "ipython3",
   "version": "3.12.8"
  }
 },
 "nbformat": 4,
 "nbformat_minor": 5
}
